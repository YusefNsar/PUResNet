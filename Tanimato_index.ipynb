{
 "cells": [
  {
   "cell_type": "code",
   "execution_count": 1,
   "metadata": {},
   "outputs": [],
   "source": [
    "import openbabel\n",
    "import pybel\n",
    "import numpy as np"
   ]
  },
  {
   "cell_type": "code",
   "execution_count": 2,
   "metadata": {},
   "outputs": [],
   "source": [
    "def get_fingerprint(file_type,file_path):\n",
    "    '''file type: file format that is accepted by Openbabel\n",
    "        file_path: path to file\n",
    "        returns fingerprint based on MACCS'''\n",
    "    mol=next(pybel.readfile(file_type,file_path))\n",
    "    fingerprint=[]\n",
    "    residues=[x for x in openbabel.OBResidueIter(mol.OBMol)]\n",
    "    for i in range(len(residues)-3):\n",
    "        mers=residues[i:i+3]\n",
    "        mol1=openbabel.OBMol()\n",
    "        for r in mers:\n",
    "            for atoms in openbabel.OBResidueAtomIter(r):\n",
    "                mol1.AddAtom(atoms)\n",
    "        mol1.ConnectTheDots()\n",
    "        mol2=pybel.Molecule(mol1)\n",
    "        fp=[1 if i in list(mol2.calcfp('MACCS').bits) else 0 for i in range(167)]\n",
    "        fingerprint.append(fp)\n",
    "    return np.asarray(fingerprint)"
   ]
  },
  {
   "cell_type": "code",
   "execution_count": 3,
   "metadata": {},
   "outputs": [],
   "source": [
    "def calculate_tanimato(fp1,fp2):\n",
    "    '''Calculated tanimato cofficient between two fingerprint fp1 and fp2'''\n",
    "    intersection=np.sum(fp1*fp2)\n",
    "    denominator=np.sum(fp1)+np.sum(fp2)-intersection\n",
    "    return intersection/denominator"
   ]
  },
  {
   "cell_type": "code",
   "execution_count": 4,
   "metadata": {},
   "outputs": [],
   "source": [
    "def get_tanimato_cofficient(file_type1,file_path1,file_type2,file_path2):\n",
    "    '''file_type 1 and 2 : file format accepted by openbabel\n",
    "        file_path 1 and 2 : path to file 1 and 2 respectively\n",
    "        returns tanimato cofficient '''\n",
    "    fp1=get_fingerprint(file_type1,file_path1)\n",
    "    fp2=get_fingerprint(file_type2,file_path2)\n",
    "    l_fp1,l_fp2=len(fp1),len(fp2)\n",
    "    if l_fp1>l_fp2:\n",
    "        temp=[]\n",
    "        for i in range(l_fp1-l_fp2):\n",
    "            tscore=calculate_tanimato(fp1[i:i+l_fp2].flatten(),fp2.flatten())\n",
    "            temp.append(tscore)\n",
    "        return np.max(temp)\n",
    "    elif l_fp1<l_fp2:\n",
    "        temp=[]\n",
    "        for i in range(l_fp2-l_fp1):\n",
    "            tscore=calculate_tanimato(fp2[i:i+l_fp1].flatten(),fp1.flatten())\n",
    "            temp.append(tscore)\n",
    "        return np.max(temp)\n",
    "    else:\n",
    "        score=calculate_tanimato(fp2.flatten(),fp1.flatten())\n",
    "        return score  "
   ]
  },
  {
   "cell_type": "code",
   "execution_count": 5,
   "metadata": {},
   "outputs": [],
   "source": [
    "score=get_tanimato_cofficient('mol2','scPDB/11bg_2/protein.mol2','mol2','scPDB/12gs_1/protein.mol2')"
   ]
  },
  {
   "cell_type": "code",
   "execution_count": 6,
   "metadata": {},
   "outputs": [
    {
     "name": "stdout",
     "output_type": "stream",
     "text": [
      "0.6734998429154885\n"
     ]
    }
   ],
   "source": [
    "print(score)"
   ]
  }
 ],
 "metadata": {
  "kernelspec": {
   "display_name": "Python 3",
   "language": "python",
   "name": "python3"
  },
  "language_info": {
   "codemirror_mode": {
    "name": "ipython",
    "version": 3
   },
   "file_extension": ".py",
   "mimetype": "text/x-python",
   "name": "python",
   "nbconvert_exporter": "python",
   "pygments_lexer": "ipython3",
   "version": "3.6.12"
  }
 },
 "nbformat": 4,
 "nbformat_minor": 4
}
