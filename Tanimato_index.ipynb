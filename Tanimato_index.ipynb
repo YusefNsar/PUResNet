{
 "cells": [
  {
   "cell_type": "code",
   "execution_count": 7,
   "source": [
    "import tanimato"
   ],
   "outputs": [],
   "metadata": {}
  },
  {
   "cell_type": "code",
   "execution_count": 8,
   "source": [
    "score=get_tanimato_cofficient('mol2','scPDB/11bg_2/protein.mol2','mol2','scPDB/12gs_1/protein.mol2')"
   ],
   "outputs": [],
   "metadata": {}
  },
  {
   "cell_type": "code",
   "execution_count": 9,
   "source": [
    "print(score)"
   ],
   "outputs": [
    {
     "output_type": "stream",
     "name": "stdout",
     "text": [
      "0.6734998429154885\n"
     ]
    }
   ],
   "metadata": {}
  }
 ],
 "metadata": {
  "kernelspec": {
   "name": "python3",
   "display_name": "Python 3.6.12 64-bit ('ligandbinding': conda)"
  },
  "language_info": {
   "codemirror_mode": {
    "name": "ipython",
    "version": 3
   },
   "file_extension": ".py",
   "mimetype": "text/x-python",
   "name": "python",
   "nbconvert_exporter": "python",
   "pygments_lexer": "ipython3",
   "version": "3.6.12"
  },
  "interpreter": {
   "hash": "a8b0d0f3fe82399c47d9d0ac50d47bf4a5f4c1eb9ae306b5c239ee07f24d83fd"
  }
 },
 "nbformat": 4,
 "nbformat_minor": 4
}